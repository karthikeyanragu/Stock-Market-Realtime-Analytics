{
 "cells": [
  {
   "cell_type": "code",
   "execution_count": null,
   "id": "01625f68",
   "metadata": {},
   "outputs": [],
   "source": [
    "from google.cloud import bigquery, pubsub_v1\n",
    "from google.oauth2 import service_account\n",
    "import requests, json, time, os\n",
    "\n",
    "project_id = \"persuasive-pipe-384604\"\n",
    "topic_name = 'stock_streaming'\n",
    "subscription_name = \"stock_subscriber\"\n",
    "os.environ['GOOGLE_APPLICATION_CREDENTIALS'] = r\"C:\\Users\\karth\\Documents\\key\\gcpkey.json\"\n",
    "\n",
    "#Create subscriber client\n",
    "bq_client = bigquery.Client(project=project_id)\n",
    "subscriber = pubsub_v1.SubscriberClient()\n",
    "subscription_path = subscriber.subscription_path(project_id, subscription_name)\n",
    "    \n",
    "# Set table ID and schema\n",
    "    \n",
    "dataset_id = \"bigdata\"\n",
    "table_id = \"streaming_stock\"\n",
    "# Construct the BigQuery table reference\n",
    "table_ref = bq_client.dataset(dataset_id).table(table_id)\n",
    "schema = [\n",
    "    bigquery.SchemaField(\"symbol\", \"STRING\"),\n",
    "    bigquery.SchemaField(\"timestamp\", \"TIMESTAMP\"),\n",
    "    bigquery.SchemaField(\"open\", \"FLOAT\"),\n",
    "    bigquery.SchemaField(\"high\", \"FLOAT\"),\n",
    "    bigquery.SchemaField(\"low\", \"FLOAT\"),\n",
    "    bigquery.SchemaField(\"close\", \"FLOAT\"),\n",
    "    bigquery.SchemaField(\"volume\", \"INTEGER\"),\n",
    "]\n",
    "    \n",
    "def callback(message):\n",
    "    \n",
    "# Parse the message payload as JSON\n",
    "    data = json.loads(message.data.decode('utf-8'))\n",
    "    print(f\"Received message: {data}\")\n",
    "\n",
    "# Insert the message into the BigQuery table\n",
    "    errors = bq_client.insert_rows_json(table_ref, [data])\n",
    "    if errors:\n",
    "        print(f\"Encountered errors while inserting rows: {errors}\")\n",
    "    else:\n",
    "        print(\"Rows inserted successfully.\")\n",
    "\n",
    "# Acknowledge the message so it's removed from the subscription\n",
    "    message.ack()\n",
    "\n",
    "# Start the subscriber client and wait for messages\n",
    "print(\"Starting subscriber...\")\n",
    "subscriber.subscribe(subscription_path, callback=callback)\n"
   ]
  },
  {
   "cell_type": "code",
   "execution_count": null,
   "id": "384640bd",
   "metadata": {},
   "outputs": [],
   "source": []
  },
  {
   "cell_type": "code",
   "execution_count": null,
   "id": "3a1ca6ab",
   "metadata": {},
   "outputs": [],
   "source": []
  }
 ],
 "metadata": {
  "kernelspec": {
   "display_name": "Python 3 (ipykernel)",
   "language": "python",
   "name": "python3"
  },
  "language_info": {
   "codemirror_mode": {
    "name": "ipython",
    "version": 3
   },
   "file_extension": ".py",
   "mimetype": "text/x-python",
   "name": "python",
   "nbconvert_exporter": "python",
   "pygments_lexer": "ipython3",
   "version": "3.10.11"
  }
 },
 "nbformat": 4,
 "nbformat_minor": 5
}

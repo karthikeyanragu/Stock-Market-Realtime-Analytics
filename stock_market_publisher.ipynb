{
 "cells": [
  {
   "cell_type": "code",
   "execution_count": null,
   "id": "df15f2aa",
   "metadata": {},
   "outputs": [],
   "source": [
    "from google.cloud import bigquery, pubsub_v1\n",
    "from google.oauth2 import service_account\n",
    "import requests, json, time, os\n",
    "\n",
    "project_id = 'persuasive-pipe-384604'\n",
    "topic_name = 'stock_streaming'\n",
    "os.environ['GOOGLE_APPLICATION_CREDENTIALS'] = r\"C:\\Users\\karth\\Documents\\key\\gcpkey.json\"\n",
    "\n",
    "# Create a client object\n",
    "client = secretmanager.SecretManagerServiceClient()\n",
    "secret_id = 'apikey'\n",
    "version_id = 'latest'  # Use the latest version of the secret\n",
    "name = f\"projects/211234264418/secrets/{secret_id}/versions/{version_id}\"\n",
    "response = client.access_secret_version(request={\"name\": name})\n",
    "# Get the secret value\n",
    "passkey = response.payload.data.decode('UTF-8')\n",
    "\n",
    "\n",
    "#Create publisher client\n",
    "publisher = pubsub_v1.PublisherClient()\n",
    "topic_path = publisher.topic_path(project_id, topic_name)\n",
    "\n",
    "# Load JSON data\n",
    "\n",
    "stock_sym = ['AAPL', 'MSFT', 'GOOGL', 'NVDA' ,'META']\n",
    "while True :\n",
    "    for symbol in stock_sym:\n",
    "        url = f\"https://www.alphavantage.co/query?function=TIME_SERIES_INTRADAY&symbol={symbol}&interval=5min&apikey={passkey}\"\n",
    "        r = requests.get(url)\n",
    "        stock_data = r.json()\n",
    "        for timestamp, values in stock_data[\"Time Series (5min)\"].items() :\n",
    "            row = {\n",
    "        \"symbol\" : symbol,\n",
    "        \"timestamp\": timestamp,\n",
    "        \"open\": float(values[\"1. open\"]),\n",
    "        \"high\": float(values[\"2. high\"]),\n",
    "        \"low\": float(values[\"3. low\"]),\n",
    "        \"close\": float(values[\"4. close\"]),\n",
    "        \"volume\": int(values[\"5. volume\"]),\n",
    "       }\n",
    "#Publish to topic\n",
    "            json_string = json.dumps(row)\n",
    "            print(json_string)\n",
    "            future = publisher.publish(topic_path, data=json_string.encode('utf-8'))\n",
    "            print(f\"Published message for {symbol} with ID: {future.result()}\")\n",
    "    time.sleep(45)"
   ]
  },
  {
   "cell_type": "code",
   "execution_count": null,
   "id": "c1ee52ae",
   "metadata": {},
   "outputs": [],
   "source": []
  },
  {
   "cell_type": "code",
   "execution_count": null,
   "id": "ce1d2c64",
   "metadata": {},
   "outputs": [],
   "source": []
  }
 ],
 "metadata": {
  "kernelspec": {
   "display_name": "Python 3 (ipykernel)",
   "language": "python",
   "name": "python3"
  },
  "language_info": {
   "codemirror_mode": {
    "name": "ipython",
    "version": 3
   },
   "file_extension": ".py",
   "mimetype": "text/x-python",
   "name": "python",
   "nbconvert_exporter": "python",
   "pygments_lexer": "ipython3",
   "version": "3.10.11"
  }
 },
 "nbformat": 4,
 "nbformat_minor": 5
}
